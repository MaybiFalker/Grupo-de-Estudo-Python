{
 "cells": [
  {
   "cell_type": "markdown",
   "id": "283686a5",
   "metadata": {},
   "source": [
    "# 1. Diferentes tipos de problemas de ciências de dados"
   ]
  },
  {
   "cell_type": "markdown",
   "id": "71c6fd1f",
   "metadata": {},
   "source": [
    "## 1.1. Problema de regressão"
   ]
  },
  {
   "cell_type": "markdown",
   "id": "33445c1a",
   "metadata": {},
   "source": [
    "Estamos prevendo uma valor numérico em uma escala contínua. "
   ]
  },
  {
   "cell_type": "markdown",
   "id": "da5b7e59",
   "metadata": {},
   "source": [
    "## 1.2. Problema de classificação"
   ]
  },
  {
   "cell_type": "markdown",
   "id": "e2b7dd37",
   "metadata": {},
   "source": [
    "Previsão qualitativa, por exemplos, respostas sim e não."
   ]
  },
  {
   "cell_type": "markdown",
   "id": "9091d305",
   "metadata": {},
   "source": [
    "## 1.3. Aprendizado Supervisionado"
   ]
  },
  {
   "cell_type": "markdown",
   "id": "3835deef",
   "metadata": {},
   "source": [
    "É um tipo de prblema que  depende de dados rotulados. "
   ]
  },
  {
   "cell_type": "markdown",
   "id": "fe78b5f8",
   "metadata": {},
   "source": [
    "## 1.4. Aprendizado Não Supervisionado"
   ]
  },
  {
   "cell_type": "markdown",
   "id": "055d9166",
   "metadata": {},
   "source": [
    "Tentamos encontrar algum tipo de estrutura em um dataset que nem sempre tem rótulos."
   ]
  },
  {
   "cell_type": "markdown",
   "id": "e19fe906",
   "metadata": {},
   "source": [
    "# 2. Estudo de Caso"
   ]
  },
  {
   "cell_type": "markdown",
   "id": "a8817e4c",
   "metadata": {},
   "source": [
    "Dados disponíveis em: https://github.com/TrainingByPackt/Data-Science-Projects-with-Python/tree/master/Data"
   ]
  },
  {
   "cell_type": "markdown",
   "id": "2d9dcad3",
   "metadata": {},
   "source": [
    "# 3. Carregando os pacotes"
   ]
  },
  {
   "cell_type": "code",
   "execution_count": 2,
   "id": "76c6c41f",
   "metadata": {
    "ExecuteTime": {
     "end_time": "2021-12-04T00:40:16.172012Z",
     "start_time": "2021-12-04T00:40:15.196002Z"
    }
   },
   "outputs": [],
   "source": [
    "import pandas as pd"
   ]
  },
  {
   "cell_type": "markdown",
   "id": "271d4dd7",
   "metadata": {},
   "source": [
    "# 4. Carregando a base de dados"
   ]
  },
  {
   "cell_type": "code",
   "execution_count": 3,
   "id": "a6d3c923",
   "metadata": {
    "ExecuteTime": {
     "end_time": "2021-12-04T00:40:36.596640Z",
     "start_time": "2021-12-04T00:40:35.273086Z"
    }
   },
   "outputs": [],
   "source": [
    "df = pd.read_excel('data/default_of_credit_card_clients__courseware_version_1_21_19.xls')"
   ]
  },
  {
   "cell_type": "markdown",
   "id": "17a250ea",
   "metadata": {},
   "source": [
    "## 4.1. Métodos para usar com uma data frame"
   ]
  },
  {
   "cell_type": "markdown",
   "id": "31273110",
   "metadata": {
    "ExecuteTime": {
     "end_time": "2021-12-04T00:41:38.716798Z",
     "start_time": "2021-12-04T00:41:38.713438Z"
    }
   },
   "source": [
    "- `.shape()`\n",
    "- `.info()`\n",
    "- `.head()`"
   ]
  },
  {
   "cell_type": "code",
   "execution_count": 4,
   "id": "928bd9d0",
   "metadata": {},
   "outputs": [
    {
     "ename": "TypeError",
     "evalue": "'tuple' object is not callable",
     "output_type": "error",
     "traceback": [
      "\u001b[1;31m---------------------------------------------------------------------------\u001b[0m",
      "\u001b[1;31mTypeError\u001b[0m                                 Traceback (most recent call last)",
      "\u001b[1;32m<ipython-input-4-0e566b70f572>\u001b[0m in \u001b[0;36m<module>\u001b[1;34m\u001b[0m\n\u001b[1;32m----> 1\u001b[1;33m \u001b[0mdf\u001b[0m\u001b[1;33m.\u001b[0m\u001b[0mshape\u001b[0m\u001b[1;33m(\u001b[0m\u001b[1;33m)\u001b[0m\u001b[1;33m\u001b[0m\u001b[1;33m\u001b[0m\u001b[0m\n\u001b[0m",
      "\u001b[1;31mTypeError\u001b[0m: 'tuple' object is not callable"
     ]
    }
   ],
   "source": [
    "df.shape()"
   ]
  },
  {
   "cell_type": "code",
   "execution_count": 5,
   "id": "b3449c14",
   "metadata": {},
   "outputs": [
    {
     "data": {
      "text/plain": [
       "(30000, 25)"
      ]
     },
     "execution_count": 5,
     "metadata": {},
     "output_type": "execute_result"
    }
   ],
   "source": [
    "df.shape #numero de linhas e colunas"
   ]
  },
  {
   "cell_type": "code",
   "execution_count": 6,
   "id": "4297c27f",
   "metadata": {},
   "outputs": [
    {
     "name": "stdout",
     "output_type": "stream",
     "text": [
      "<class 'pandas.core.frame.DataFrame'>\n",
      "RangeIndex: 30000 entries, 0 to 29999\n",
      "Data columns (total 25 columns):\n",
      " #   Column                      Non-Null Count  Dtype \n",
      "---  ------                      --------------  ----- \n",
      " 0   ID                          30000 non-null  object\n",
      " 1   LIMIT_BAL                   30000 non-null  int64 \n",
      " 2   SEX                         30000 non-null  int64 \n",
      " 3   EDUCATION                   30000 non-null  int64 \n",
      " 4   MARRIAGE                    30000 non-null  int64 \n",
      " 5   AGE                         30000 non-null  int64 \n",
      " 6   PAY_1                       30000 non-null  object\n",
      " 7   PAY_2                       30000 non-null  int64 \n",
      " 8   PAY_3                       30000 non-null  int64 \n",
      " 9   PAY_4                       30000 non-null  int64 \n",
      " 10  PAY_5                       30000 non-null  int64 \n",
      " 11  PAY_6                       30000 non-null  int64 \n",
      " 12  BILL_AMT1                   30000 non-null  int64 \n",
      " 13  BILL_AMT2                   30000 non-null  int64 \n",
      " 14  BILL_AMT3                   30000 non-null  int64 \n",
      " 15  BILL_AMT4                   30000 non-null  int64 \n",
      " 16  BILL_AMT5                   30000 non-null  int64 \n",
      " 17  BILL_AMT6                   30000 non-null  int64 \n",
      " 18  PAY_AMT1                    30000 non-null  int64 \n",
      " 19  PAY_AMT2                    30000 non-null  int64 \n",
      " 20  PAY_AMT3                    30000 non-null  int64 \n",
      " 21  PAY_AMT4                    30000 non-null  int64 \n",
      " 22  PAY_AMT5                    30000 non-null  int64 \n",
      " 23  PAY_AMT6                    30000 non-null  int64 \n",
      " 24  default payment next month  30000 non-null  int64 \n",
      "dtypes: int64(23), object(2)\n",
      "memory usage: 5.7+ MB\n"
     ]
    }
   ],
   "source": [
    "df.info()"
   ]
  },
  {
   "cell_type": "code",
   "execution_count": 7,
   "id": "ae058bb9",
   "metadata": {},
   "outputs": [
    {
     "data": {
      "text/html": [
       "<div>\n",
       "<style scoped>\n",
       "    .dataframe tbody tr th:only-of-type {\n",
       "        vertical-align: middle;\n",
       "    }\n",
       "\n",
       "    .dataframe tbody tr th {\n",
       "        vertical-align: top;\n",
       "    }\n",
       "\n",
       "    .dataframe thead th {\n",
       "        text-align: right;\n",
       "    }\n",
       "</style>\n",
       "<table border=\"1\" class=\"dataframe\">\n",
       "  <thead>\n",
       "    <tr style=\"text-align: right;\">\n",
       "      <th></th>\n",
       "      <th>ID</th>\n",
       "      <th>LIMIT_BAL</th>\n",
       "      <th>SEX</th>\n",
       "      <th>EDUCATION</th>\n",
       "      <th>MARRIAGE</th>\n",
       "      <th>AGE</th>\n",
       "      <th>PAY_1</th>\n",
       "      <th>PAY_2</th>\n",
       "      <th>PAY_3</th>\n",
       "      <th>PAY_4</th>\n",
       "      <th>...</th>\n",
       "      <th>BILL_AMT4</th>\n",
       "      <th>BILL_AMT5</th>\n",
       "      <th>BILL_AMT6</th>\n",
       "      <th>PAY_AMT1</th>\n",
       "      <th>PAY_AMT2</th>\n",
       "      <th>PAY_AMT3</th>\n",
       "      <th>PAY_AMT4</th>\n",
       "      <th>PAY_AMT5</th>\n",
       "      <th>PAY_AMT6</th>\n",
       "      <th>default payment next month</th>\n",
       "    </tr>\n",
       "  </thead>\n",
       "  <tbody>\n",
       "    <tr>\n",
       "      <th>0</th>\n",
       "      <td>798fc410-45c1</td>\n",
       "      <td>20000</td>\n",
       "      <td>2</td>\n",
       "      <td>2</td>\n",
       "      <td>1</td>\n",
       "      <td>24</td>\n",
       "      <td>2</td>\n",
       "      <td>2</td>\n",
       "      <td>-1</td>\n",
       "      <td>-1</td>\n",
       "      <td>...</td>\n",
       "      <td>0</td>\n",
       "      <td>0</td>\n",
       "      <td>0</td>\n",
       "      <td>0</td>\n",
       "      <td>689</td>\n",
       "      <td>0</td>\n",
       "      <td>0</td>\n",
       "      <td>0</td>\n",
       "      <td>0</td>\n",
       "      <td>1</td>\n",
       "    </tr>\n",
       "    <tr>\n",
       "      <th>1</th>\n",
       "      <td>8a8c8f3b-8eb4</td>\n",
       "      <td>120000</td>\n",
       "      <td>2</td>\n",
       "      <td>2</td>\n",
       "      <td>2</td>\n",
       "      <td>26</td>\n",
       "      <td>-1</td>\n",
       "      <td>2</td>\n",
       "      <td>0</td>\n",
       "      <td>0</td>\n",
       "      <td>...</td>\n",
       "      <td>3272</td>\n",
       "      <td>3455</td>\n",
       "      <td>3261</td>\n",
       "      <td>0</td>\n",
       "      <td>1000</td>\n",
       "      <td>1000</td>\n",
       "      <td>1000</td>\n",
       "      <td>0</td>\n",
       "      <td>2000</td>\n",
       "      <td>1</td>\n",
       "    </tr>\n",
       "    <tr>\n",
       "      <th>2</th>\n",
       "      <td>85698822-43f5</td>\n",
       "      <td>90000</td>\n",
       "      <td>2</td>\n",
       "      <td>2</td>\n",
       "      <td>2</td>\n",
       "      <td>34</td>\n",
       "      <td>0</td>\n",
       "      <td>0</td>\n",
       "      <td>0</td>\n",
       "      <td>0</td>\n",
       "      <td>...</td>\n",
       "      <td>14331</td>\n",
       "      <td>14948</td>\n",
       "      <td>15549</td>\n",
       "      <td>1518</td>\n",
       "      <td>1500</td>\n",
       "      <td>1000</td>\n",
       "      <td>1000</td>\n",
       "      <td>1000</td>\n",
       "      <td>5000</td>\n",
       "      <td>0</td>\n",
       "    </tr>\n",
       "    <tr>\n",
       "      <th>3</th>\n",
       "      <td>0737c11b-be42</td>\n",
       "      <td>50000</td>\n",
       "      <td>2</td>\n",
       "      <td>2</td>\n",
       "      <td>1</td>\n",
       "      <td>37</td>\n",
       "      <td>0</td>\n",
       "      <td>0</td>\n",
       "      <td>0</td>\n",
       "      <td>0</td>\n",
       "      <td>...</td>\n",
       "      <td>28314</td>\n",
       "      <td>28959</td>\n",
       "      <td>29547</td>\n",
       "      <td>2000</td>\n",
       "      <td>2019</td>\n",
       "      <td>1200</td>\n",
       "      <td>1100</td>\n",
       "      <td>1069</td>\n",
       "      <td>1000</td>\n",
       "      <td>0</td>\n",
       "    </tr>\n",
       "    <tr>\n",
       "      <th>4</th>\n",
       "      <td>3b7f77cc-dbc0</td>\n",
       "      <td>50000</td>\n",
       "      <td>1</td>\n",
       "      <td>2</td>\n",
       "      <td>1</td>\n",
       "      <td>57</td>\n",
       "      <td>-1</td>\n",
       "      <td>0</td>\n",
       "      <td>-1</td>\n",
       "      <td>0</td>\n",
       "      <td>...</td>\n",
       "      <td>20940</td>\n",
       "      <td>19146</td>\n",
       "      <td>19131</td>\n",
       "      <td>2000</td>\n",
       "      <td>36681</td>\n",
       "      <td>10000</td>\n",
       "      <td>9000</td>\n",
       "      <td>689</td>\n",
       "      <td>679</td>\n",
       "      <td>0</td>\n",
       "    </tr>\n",
       "  </tbody>\n",
       "</table>\n",
       "<p>5 rows × 25 columns</p>\n",
       "</div>"
      ],
      "text/plain": [
       "              ID  LIMIT_BAL  SEX  EDUCATION  MARRIAGE  AGE PAY_1  PAY_2  \\\n",
       "0  798fc410-45c1      20000    2          2         1   24     2      2   \n",
       "1  8a8c8f3b-8eb4     120000    2          2         2   26    -1      2   \n",
       "2  85698822-43f5      90000    2          2         2   34     0      0   \n",
       "3  0737c11b-be42      50000    2          2         1   37     0      0   \n",
       "4  3b7f77cc-dbc0      50000    1          2         1   57    -1      0   \n",
       "\n",
       "   PAY_3  PAY_4  ...  BILL_AMT4  BILL_AMT5  BILL_AMT6  PAY_AMT1  PAY_AMT2  \\\n",
       "0     -1     -1  ...          0          0          0         0       689   \n",
       "1      0      0  ...       3272       3455       3261         0      1000   \n",
       "2      0      0  ...      14331      14948      15549      1518      1500   \n",
       "3      0      0  ...      28314      28959      29547      2000      2019   \n",
       "4     -1      0  ...      20940      19146      19131      2000     36681   \n",
       "\n",
       "   PAY_AMT3  PAY_AMT4  PAY_AMT5  PAY_AMT6  default payment next month  \n",
       "0         0         0         0         0                           1  \n",
       "1      1000      1000         0      2000                           1  \n",
       "2      1000      1000      1000      5000                           0  \n",
       "3      1200      1100      1069      1000                           0  \n",
       "4     10000      9000       689       679                           0  \n",
       "\n",
       "[5 rows x 25 columns]"
      ]
     },
     "execution_count": 7,
     "metadata": {},
     "output_type": "execute_result"
    }
   ],
   "source": [
    "df.head()"
   ]
  },
  {
   "cell_type": "markdown",
   "id": "b50fa06f",
   "metadata": {},
   "source": [
    "O dicionário de dados pode ser encontrado aqui: https://archive.ics.uci.edu/ml/datasets/default+of+credit+card+clients"
   ]
  },
  {
   "cell_type": "markdown",
   "id": "5f9bda28",
   "metadata": {},
   "source": [
    "# 5. O problema da empresa"
   ]
  },
  {
   "cell_type": "markdown",
   "id": "60633d21",
   "metadata": {},
   "source": [
    "- Nosso cliente é uma empresa de cartão de crédito.\n",
    "- A base de dados contém dados demográficos de 30.000 titulares de contas correntes."
   ]
  },
  {
   "cell_type": "markdown",
   "id": "172da626",
   "metadata": {},
   "source": [
    "## 5.1. Objetivo"
   ]
  },
  {
   "cell_type": "markdown",
   "id": "baa94ffb",
   "metadata": {},
   "source": [
    "Desenvolver um modelo que preveja se uma conta ficará inadimplente no próximo mês, de acordo com dados demográficos e históricos."
   ]
  },
  {
   "cell_type": "markdown",
   "id": "6da1f19e",
   "metadata": {},
   "source": [
    "# 6. Etapas da Exploração de dados"
   ]
  },
  {
   "cell_type": "markdown",
   "id": "dcff7d74",
   "metadata": {},
   "source": [
    "## 6.1. Quantas colunas os dados contêm?"
   ]
  },
  {
   "cell_type": "markdown",
   "id": "d9918dbd",
   "metadata": {},
   "source": [
    "Temos 25 colunas ou variáveis (features)"
   ]
  },
  {
   "cell_type": "markdown",
   "id": "fccb149e",
   "metadata": {},
   "source": [
    "## 6.2. Quantas linhas os dados contêm?"
   ]
  },
  {
   "cell_type": "markdown",
   "id": "fddcb924",
   "metadata": {},
   "source": [
    "Temos 30.000 observações (ou linhas)."
   ]
  },
  {
   "cell_type": "markdown",
   "id": "29fcfe04",
   "metadata": {},
   "source": [
    "## 6.3. Examine os nomes das colunas usando o método `.columns`."
   ]
  },
  {
   "cell_type": "code",
   "execution_count": 8,
   "id": "d5e6584f",
   "metadata": {},
   "outputs": [
    {
     "data": {
      "text/plain": [
       "['ID',\n",
       " 'LIMIT_BAL',\n",
       " 'SEX',\n",
       " 'EDUCATION',\n",
       " 'MARRIAGE',\n",
       " 'AGE',\n",
       " 'PAY_1',\n",
       " 'PAY_2',\n",
       " 'PAY_3',\n",
       " 'PAY_4',\n",
       " 'PAY_5',\n",
       " 'PAY_6',\n",
       " 'BILL_AMT1',\n",
       " 'BILL_AMT2',\n",
       " 'BILL_AMT3',\n",
       " 'BILL_AMT4',\n",
       " 'BILL_AMT5',\n",
       " 'BILL_AMT6',\n",
       " 'PAY_AMT1',\n",
       " 'PAY_AMT2',\n",
       " 'PAY_AMT3',\n",
       " 'PAY_AMT4',\n",
       " 'PAY_AMT5',\n",
       " 'PAY_AMT6',\n",
       " 'default payment next month']"
      ]
     },
     "execution_count": 8,
     "metadata": {},
     "output_type": "execute_result"
    }
   ],
   "source": [
    "df.columns.to_list()"
   ]
  },
  {
   "cell_type": "markdown",
   "id": "7c34fffc",
   "metadata": {},
   "source": [
    "## 6.4. Selecione  a coluna alvo `ID` e conte os valores exclusivos usando o método `.nunique()`"
   ]
  },
  {
   "cell_type": "code",
   "execution_count": 9,
   "id": "f1550ea5",
   "metadata": {},
   "outputs": [
    {
     "data": {
      "text/plain": [
       "29687"
      ]
     },
     "execution_count": 9,
     "metadata": {},
     "output_type": "execute_result"
    }
   ],
   "source": [
    "df['ID'].nunique()"
   ]
  },
  {
   "cell_type": "markdown",
   "id": "4790bed4",
   "metadata": {},
   "source": [
    "Temos 29687 IDs unicos e 313 IDs que estão repetidos."
   ]
  },
  {
   "cell_type": "markdown",
   "id": "b77097b0",
   "metadata": {},
   "source": [
    "## 6.5. Há valores de ID duplicados no dataset. Vamos criar uma variável chamada `id_counts()` para contar quandtas vezes cada ID se repete."
   ]
  },
  {
   "cell_type": "code",
   "execution_count": 4,
   "id": "4d1eff0d",
   "metadata": {
    "ExecuteTime": {
     "end_time": "2021-12-04T00:57:24.037309Z",
     "start_time": "2021-12-04T00:57:24.000594Z"
    }
   },
   "outputs": [
    {
     "data": {
      "text/plain": [
       "428b26a3-dca2    2\n",
       "e50d8395-da32    2\n",
       "d5905747-8aef    2\n",
       "df3d13be-9c13    2\n",
       "4e2380e6-a8cf    2\n",
       "Name: ID, dtype: int64"
      ]
     },
     "execution_count": 4,
     "metadata": {},
     "output_type": "execute_result"
    }
   ],
   "source": [
    "id_counts = df['ID'].value_counts()\n",
    "id_counts.head()"
   ]
  },
  {
   "cell_type": "markdown",
   "id": "65bcc1e4",
   "metadata": {},
   "source": [
    "## 6.6. Aplique o método `value_counts()` em `id_counts` para ver o número de entradas duplicadas."
   ]
  },
  {
   "cell_type": "code",
   "execution_count": null,
   "id": "9180caac",
   "metadata": {},
   "outputs": [],
   "source": []
  },
  {
   "cell_type": "markdown",
   "id": "4dc7f55a",
   "metadata": {},
   "source": [
    "# 7. Máscaras booleanas"
   ]
  },
  {
   "cell_type": "code",
   "execution_count": 10,
   "id": "5ee4823a",
   "metadata": {},
   "outputs": [
    {
     "data": {
      "text/plain": [
       "pandas.core.series.Series"
      ]
     },
     "execution_count": 10,
     "metadata": {},
     "output_type": "execute_result"
    }
   ],
   "source": [
    "type(df['ID'])"
   ]
  },
  {
   "cell_type": "markdown",
   "id": "50fb82d4",
   "metadata": {},
   "source": [
    "Exemplo de uso de máscara booleana:"
   ]
  },
  {
   "cell_type": "code",
   "execution_count": 11,
   "id": "09c9feb4",
   "metadata": {},
   "outputs": [
    {
     "data": {
      "text/plain": [
       "0        False\n",
       "1        False\n",
       "2         True\n",
       "3         True\n",
       "4         True\n",
       "         ...  \n",
       "29995     True\n",
       "29996     True\n",
       "29997     True\n",
       "29998     True\n",
       "29999     True\n",
       "Name: AGE, Length: 30000, dtype: bool"
      ]
     },
     "execution_count": 11,
     "metadata": {},
     "output_type": "execute_result"
    }
   ],
   "source": [
    "df['AGE'] >= 30"
   ]
  },
  {
   "cell_type": "code",
   "execution_count": 12,
   "id": "aeb12ef6",
   "metadata": {},
   "outputs": [
    {
     "ename": "ModuleNotFoundError",
     "evalue": "No module named 'nupy'",
     "output_type": "error",
     "traceback": [
      "\u001b[1;31m---------------------------------------------------------------------------\u001b[0m",
      "\u001b[1;31mModuleNotFoundError\u001b[0m                       Traceback (most recent call last)",
      "\u001b[1;32m<ipython-input-12-8d6c7324a24f>\u001b[0m in \u001b[0;36m<module>\u001b[1;34m\u001b[0m\n\u001b[1;32m----> 1\u001b[1;33m \u001b[1;32mimport\u001b[0m \u001b[0mnupy\u001b[0m \u001b[1;32mas\u001b[0m \u001b[0mnp\u001b[0m\u001b[1;33m\u001b[0m\u001b[1;33m\u001b[0m\u001b[0m\n\u001b[0m",
      "\u001b[1;31mModuleNotFoundError\u001b[0m: No module named 'nupy'"
     ]
    }
   ],
   "source": [
    "import nupy as np"
   ]
  },
  {
   "cell_type": "code",
   "execution_count": 13,
   "id": "b78308d2",
   "metadata": {},
   "outputs": [],
   "source": [
    "import numpy as np"
   ]
  },
  {
   "cell_type": "code",
   "execution_count": null,
   "id": "c5140a3f",
   "metadata": {},
   "outputs": [],
   "source": []
  }
 ],
 "metadata": {
  "kernelspec": {
   "display_name": "Python 3",
   "language": "python",
   "name": "python3"
  },
  "language_info": {
   "codemirror_mode": {
    "name": "ipython",
    "version": 3
   },
   "file_extension": ".py",
   "mimetype": "text/x-python",
   "name": "python",
   "nbconvert_exporter": "python",
   "pygments_lexer": "ipython3",
   "version": "3.8.8"
  }
 },
 "nbformat": 4,
 "nbformat_minor": 5
}
