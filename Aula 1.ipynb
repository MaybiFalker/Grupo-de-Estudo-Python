{
 "cells": [
  {
   "cell_type": "markdown",
   "id": "1b87bf0b",
   "metadata": {},
   "source": [
    "# Hello world"
   ]
  },
  {
   "cell_type": "code",
   "execution_count": 1,
   "id": "fa907c9c",
   "metadata": {},
   "outputs": [
    {
     "ename": "SyntaxError",
     "evalue": "EOL while scanning string literal (<ipython-input-1-09c7a44e02d7>, line 1)",
     "output_type": "error",
     "traceback": [
      "\u001b[1;36m  File \u001b[1;32m\"<ipython-input-1-09c7a44e02d7>\"\u001b[1;36m, line \u001b[1;32m1\u001b[0m\n\u001b[1;33m    print (\"Hello world!)\u001b[0m\n\u001b[1;37m                         ^\u001b[0m\n\u001b[1;31mSyntaxError\u001b[0m\u001b[1;31m:\u001b[0m EOL while scanning string literal\n"
     ]
    }
   ],
   "source": [
    "print (\"Hello world!)"
   ]
  },
  {
   "cell_type": "code",
   "execution_count": 2,
   "id": "d80e8b83",
   "metadata": {},
   "outputs": [
    {
     "data": {
      "text/plain": [
       "'Hello world'"
      ]
     },
     "execution_count": 2,
     "metadata": {},
     "output_type": "execute_result"
    }
   ],
   "source": [
    "\"Hello world\""
   ]
  },
  {
   "cell_type": "markdown",
   "id": "47356e39",
   "metadata": {},
   "source": []
  },
  {
   "cell_type": "markdown",
   "id": "43ff33ae",
   "metadata": {},
   "source": [
    "# 1. Variáveis"
   ]
  },
  {
   "cell_type": "code",
   "execution_count": 3,
   "id": "97f8a969",
   "metadata": {},
   "outputs": [],
   "source": [
    "altura = 1.67"
   ]
  },
  {
   "cell_type": "code",
   "execution_count": 4,
   "id": "12b98fb2",
   "metadata": {},
   "outputs": [],
   "source": [
    "peso = 65"
   ]
  },
  {
   "cell_type": "code",
   "execution_count": 5,
   "id": "ccbc70db",
   "metadata": {},
   "outputs": [
    {
     "name": "stdout",
     "output_type": "stream",
     "text": [
      "1.67\n"
     ]
    }
   ],
   "source": [
    "print (altura)"
   ]
  },
  {
   "cell_type": "code",
   "execution_count": 6,
   "id": "75ac50d9",
   "metadata": {},
   "outputs": [
    {
     "name": "stdout",
     "output_type": "stream",
     "text": [
      "65\n"
     ]
    }
   ],
   "source": [
    "print(peso)"
   ]
  },
  {
   "cell_type": "code",
   "execution_count": 7,
   "id": "616dee20",
   "metadata": {},
   "outputs": [],
   "source": [
    "imc = round(peso/altura**2,2)"
   ]
  },
  {
   "cell_type": "code",
   "execution_count": 8,
   "id": "1b3059fc",
   "metadata": {},
   "outputs": [
    {
     "data": {
      "text/plain": [
       "23.31"
      ]
     },
     "execution_count": 8,
     "metadata": {},
     "output_type": "execute_result"
    }
   ],
   "source": [
    "imc"
   ]
  },
  {
   "cell_type": "markdown",
   "id": "1032cf54",
   "metadata": {},
   "source": [
    "# 2. Tipos de Variáveis "
   ]
  },
  {
   "cell_type": "code",
   "execution_count": 9,
   "id": "c15149e9",
   "metadata": {},
   "outputs": [
    {
     "data": {
      "text/plain": [
       "float"
      ]
     },
     "execution_count": 9,
     "metadata": {},
     "output_type": "execute_result"
    }
   ],
   "source": [
    "type(imc)"
   ]
  },
  {
   "cell_type": "code",
   "execution_count": 23,
   "id": "03040b5d",
   "metadata": {},
   "outputs": [],
   "source": [
    "numero_de_filhos = 5\n",
    "dia_da_semana = 7"
   ]
  },
  {
   "cell_type": "code",
   "execution_count": 11,
   "id": "d9056e2d",
   "metadata": {},
   "outputs": [
    {
     "data": {
      "text/plain": [
       "int"
      ]
     },
     "execution_count": 11,
     "metadata": {},
     "output_type": "execute_result"
    }
   ],
   "source": [
    "type (numero_de_filhos)"
   ]
  },
  {
   "cell_type": "code",
   "execution_count": 24,
   "id": "3783ebb3",
   "metadata": {},
   "outputs": [
    {
     "data": {
      "text/plain": [
       "int"
      ]
     },
     "execution_count": 24,
     "metadata": {},
     "output_type": "execute_result"
    }
   ],
   "source": [
    "type (dia_da_semana)"
   ]
  },
  {
   "cell_type": "code",
   "execution_count": 12,
   "id": "a9335663",
   "metadata": {},
   "outputs": [],
   "source": [
    "nome = \"Maybi\""
   ]
  },
  {
   "cell_type": "code",
   "execution_count": 13,
   "id": "8a4336fe",
   "metadata": {},
   "outputs": [],
   "source": [
    "nome = 'Rio de Janeiro'"
   ]
  },
  {
   "cell_type": "code",
   "execution_count": 14,
   "id": "77c9acda",
   "metadata": {},
   "outputs": [
    {
     "data": {
      "text/plain": [
       "str"
      ]
     },
     "execution_count": 14,
     "metadata": {},
     "output_type": "execute_result"
    }
   ],
   "source": [
    "type(nome)"
   ]
  },
  {
   "cell_type": "code",
   "execution_count": 15,
   "id": "606bceed",
   "metadata": {},
   "outputs": [
    {
     "ename": "NameError",
     "evalue": "name 'cidade' is not defined",
     "output_type": "error",
     "traceback": [
      "\u001b[1;31m---------------------------------------------------------------------------\u001b[0m",
      "\u001b[1;31mNameError\u001b[0m                                 Traceback (most recent call last)",
      "\u001b[1;32m<ipython-input-15-0fd591519740>\u001b[0m in \u001b[0;36m<module>\u001b[1;34m\u001b[0m\n\u001b[1;32m----> 1\u001b[1;33m \u001b[0mtype\u001b[0m\u001b[1;33m(\u001b[0m\u001b[0mcidade\u001b[0m\u001b[1;33m)\u001b[0m\u001b[1;33m\u001b[0m\u001b[1;33m\u001b[0m\u001b[0m\n\u001b[0m",
      "\u001b[1;31mNameError\u001b[0m: name 'cidade' is not defined"
     ]
    }
   ],
   "source": [
    "type(cidade)"
   ]
  },
  {
   "cell_type": "code",
   "execution_count": 16,
   "id": "51ac8245",
   "metadata": {},
   "outputs": [],
   "source": [
    "cidade = 'Rio de Janeiro'"
   ]
  },
  {
   "cell_type": "code",
   "execution_count": 17,
   "id": "f1ee07bb",
   "metadata": {},
   "outputs": [
    {
     "data": {
      "text/plain": [
       "str"
      ]
     },
     "execution_count": 17,
     "metadata": {},
     "output_type": "execute_result"
    }
   ],
   "source": [
    "type(cidade)"
   ]
  },
  {
   "cell_type": "code",
   "execution_count": 18,
   "id": "922e9ce5",
   "metadata": {},
   "outputs": [
    {
     "ename": "NameError",
     "evalue": "name 'true' is not defined",
     "output_type": "error",
     "traceback": [
      "\u001b[1;31m---------------------------------------------------------------------------\u001b[0m",
      "\u001b[1;31mNameError\u001b[0m                                 Traceback (most recent call last)",
      "\u001b[1;32m<ipython-input-18-b6f187d26c62>\u001b[0m in \u001b[0;36m<module>\u001b[1;34m\u001b[0m\n\u001b[1;32m----> 1\u001b[1;33m \u001b[0mz\u001b[0m \u001b[1;33m=\u001b[0m \u001b[0mtrue\u001b[0m\u001b[1;33m\u001b[0m\u001b[1;33m\u001b[0m\u001b[0m\n\u001b[0m",
      "\u001b[1;31mNameError\u001b[0m: name 'true' is not defined"
     ]
    }
   ],
   "source": [
    "z = true"
   ]
  },
  {
   "cell_type": "code",
   "execution_count": 19,
   "id": "bf747d20",
   "metadata": {},
   "outputs": [],
   "source": [
    "z = True"
   ]
  },
  {
   "cell_type": "code",
   "execution_count": 20,
   "id": "2839a006",
   "metadata": {},
   "outputs": [
    {
     "data": {
      "text/plain": [
       "bool"
      ]
     },
     "execution_count": 20,
     "metadata": {},
     "output_type": "execute_result"
    }
   ],
   "source": [
    "type(z)"
   ]
  },
  {
   "cell_type": "code",
   "execution_count": 21,
   "id": "00851bec",
   "metadata": {},
   "outputs": [],
   "source": [
    "w = False"
   ]
  },
  {
   "cell_type": "code",
   "execution_count": 22,
   "id": "5a904270",
   "metadata": {},
   "outputs": [
    {
     "data": {
      "text/plain": [
       "bool"
      ]
     },
     "execution_count": 22,
     "metadata": {},
     "output_type": "execute_result"
    }
   ],
   "source": [
    "type(w)"
   ]
  },
  {
   "cell_type": "markdown",
   "id": "79ee6e4a",
   "metadata": {},
   "source": [
    "# 3.Juntando variáveis"
   ]
  },
  {
   "cell_type": "code",
   "execution_count": 10,
   "id": "c22cf14c",
   "metadata": {},
   "outputs": [
    {
     "data": {
      "text/plain": [
       "88.31"
      ]
     },
     "execution_count": 10,
     "metadata": {},
     "output_type": "execute_result"
    }
   ],
   "source": [
    "imc+peso"
   ]
  },
  {
   "cell_type": "code",
   "execution_count": 12,
   "id": "6df4c0fd",
   "metadata": {},
   "outputs": [
    {
     "ename": "NameError",
     "evalue": "name 'numero_de_filhos' is not defined",
     "output_type": "error",
     "traceback": [
      "\u001b[1;31m---------------------------------------------------------------------------\u001b[0m",
      "\u001b[1;31mNameError\u001b[0m                                 Traceback (most recent call last)",
      "\u001b[1;32m<ipython-input-12-7b7cc8940763>\u001b[0m in \u001b[0;36m<module>\u001b[1;34m\u001b[0m\n\u001b[1;32m----> 1\u001b[1;33m \u001b[0mnumero_de_filhos\u001b[0m\u001b[1;33m\u001b[0m\u001b[1;33m\u001b[0m\u001b[0m\n\u001b[0m",
      "\u001b[1;31mNameError\u001b[0m: name 'numero_de_filhos' is not defined"
     ]
    }
   ],
   "source": [
    "numero_de_filhos"
   ]
  },
  {
   "cell_type": "code",
   "execution_count": 14,
   "id": "d620b3fb",
   "metadata": {},
   "outputs": [],
   "source": [
    "numero_de_filhos = 5"
   ]
  },
  {
   "cell_type": "code",
   "execution_count": 15,
   "id": "0651771a",
   "metadata": {},
   "outputs": [
    {
     "data": {
      "text/plain": [
       "28.31"
      ]
     },
     "execution_count": 15,
     "metadata": {},
     "output_type": "execute_result"
    }
   ],
   "source": [
    "soma2 = imc + numero_de_filhos\n",
    "soma2"
   ]
  },
  {
   "cell_type": "code",
   "execution_count": 16,
   "id": "4c371f24",
   "metadata": {},
   "outputs": [
    {
     "data": {
      "text/plain": [
       "float"
      ]
     },
     "execution_count": 16,
     "metadata": {},
     "output_type": "execute_result"
    }
   ],
   "source": [
    "type(soma2)"
   ]
  },
  {
   "cell_type": "code",
   "execution_count": 17,
   "id": "dd7d4ab6",
   "metadata": {},
   "outputs": [
    {
     "ename": "NameError",
     "evalue": "name 'dia_da_semana' is not defined",
     "output_type": "error",
     "traceback": [
      "\u001b[1;31m---------------------------------------------------------------------------\u001b[0m",
      "\u001b[1;31mNameError\u001b[0m                                 Traceback (most recent call last)",
      "\u001b[1;32m<ipython-input-17-fb83cff7ce62>\u001b[0m in \u001b[0;36m<module>\u001b[1;34m\u001b[0m\n\u001b[1;32m----> 1\u001b[1;33m \u001b[0msoma3\u001b[0m \u001b[1;33m=\u001b[0m \u001b[0mnumero_de_filhos\u001b[0m \u001b[1;33m+\u001b[0m \u001b[0mdia_da_semana\u001b[0m\u001b[1;33m\u001b[0m\u001b[1;33m\u001b[0m\u001b[0m\n\u001b[0m\u001b[0;32m      2\u001b[0m \u001b[0msoma3\u001b[0m\u001b[1;33m\u001b[0m\u001b[1;33m\u001b[0m\u001b[0m\n",
      "\u001b[1;31mNameError\u001b[0m: name 'dia_da_semana' is not defined"
     ]
    }
   ],
   "source": [
    "soma3 = numero_de_filhos + dia_da_semana\n",
    "soma3"
   ]
  },
  {
   "cell_type": "code",
   "execution_count": 18,
   "id": "81811eb8",
   "metadata": {},
   "outputs": [],
   "source": [
    "dia_da_semana = 7"
   ]
  },
  {
   "cell_type": "code",
   "execution_count": 19,
   "id": "a1124f65",
   "metadata": {},
   "outputs": [
    {
     "data": {
      "text/plain": [
       "12"
      ]
     },
     "execution_count": 19,
     "metadata": {},
     "output_type": "execute_result"
    }
   ],
   "source": [
    "soma3 = numero_de_filhos + dia_da_semana\n",
    "soma3"
   ]
  },
  {
   "cell_type": "code",
   "execution_count": 20,
   "id": "57bbeefa",
   "metadata": {},
   "outputs": [
    {
     "data": {
      "text/plain": [
       "int"
      ]
     },
     "execution_count": 20,
     "metadata": {},
     "output_type": "execute_result"
    }
   ],
   "source": [
    "type (soma3)"
   ]
  },
  {
   "cell_type": "code",
   "execution_count": 21,
   "id": "6da9e280",
   "metadata": {
    "scrolled": true
   },
   "outputs": [
    {
     "ename": "NameError",
     "evalue": "name 'nome' is not defined",
     "output_type": "error",
     "traceback": [
      "\u001b[1;31m---------------------------------------------------------------------------\u001b[0m",
      "\u001b[1;31mNameError\u001b[0m                                 Traceback (most recent call last)",
      "\u001b[1;32m<ipython-input-21-e632f6b68504>\u001b[0m in \u001b[0;36m<module>\u001b[1;34m\u001b[0m\n\u001b[1;32m----> 1\u001b[1;33m \u001b[0mnome\u001b[0m \u001b[1;33m+\u001b[0m \u001b[0mcidade\u001b[0m\u001b[1;33m\u001b[0m\u001b[1;33m\u001b[0m\u001b[0m\n\u001b[0m",
      "\u001b[1;31mNameError\u001b[0m: name 'nome' is not defined"
     ]
    }
   ],
   "source": [
    "nome + cidade"
   ]
  },
  {
   "cell_type": "code",
   "execution_count": 22,
   "id": "eaebf780",
   "metadata": {
    "scrolled": true
   },
   "outputs": [
    {
     "ename": "NameError",
     "evalue": "name 'nome' is not defined",
     "output_type": "error",
     "traceback": [
      "\u001b[1;31m---------------------------------------------------------------------------\u001b[0m",
      "\u001b[1;31mNameError\u001b[0m                                 Traceback (most recent call last)",
      "\u001b[1;32m<ipython-input-22-764e5f3f0ba9>\u001b[0m in \u001b[0;36m<module>\u001b[1;34m\u001b[0m\n\u001b[1;32m----> 1\u001b[1;33m \u001b[0mnome\u001b[0m\u001b[1;33m\u001b[0m\u001b[1;33m\u001b[0m\u001b[0m\n\u001b[0m",
      "\u001b[1;31mNameError\u001b[0m: name 'nome' is not defined"
     ]
    }
   ],
   "source": [
    "nome"
   ]
  },
  {
   "cell_type": "code",
   "execution_count": 23,
   "id": "5e43ceb0",
   "metadata": {},
   "outputs": [],
   "source": [
    "nome = \"Maybi\""
   ]
  },
  {
   "cell_type": "code",
   "execution_count": 27,
   "id": "abffb5b6",
   "metadata": {},
   "outputs": [],
   "source": [
    "cidade = 'Rio de Janeiro'"
   ]
  },
  {
   "cell_type": "code",
   "execution_count": 28,
   "id": "c7c065d3",
   "metadata": {},
   "outputs": [
    {
     "data": {
      "text/plain": [
       "'MaybiRio de Janeiro'"
      ]
     },
     "execution_count": 28,
     "metadata": {},
     "output_type": "execute_result"
    }
   ],
   "source": [
    "nome+cidade"
   ]
  },
  {
   "cell_type": "code",
   "execution_count": 29,
   "id": "293b0561",
   "metadata": {},
   "outputs": [
    {
     "data": {
      "text/plain": [
       "'Maybi Rio de Janeiro'"
      ]
     },
     "execution_count": 29,
     "metadata": {},
     "output_type": "execute_result"
    }
   ],
   "source": [
    "nome + \" \" + cidade"
   ]
  },
  {
   "cell_type": "code",
   "execution_count": 30,
   "id": "80aa32df",
   "metadata": {},
   "outputs": [
    {
     "ename": "NameError",
     "evalue": "name 'z' is not defined",
     "output_type": "error",
     "traceback": [
      "\u001b[1;31m---------------------------------------------------------------------------\u001b[0m",
      "\u001b[1;31mNameError\u001b[0m                                 Traceback (most recent call last)",
      "\u001b[1;32m<ipython-input-30-76b1c84339ab>\u001b[0m in \u001b[0;36m<module>\u001b[1;34m\u001b[0m\n\u001b[1;32m----> 1\u001b[1;33m \u001b[0msoma4\u001b[0m \u001b[1;33m=\u001b[0m \u001b[0mdia_da_semana\u001b[0m \u001b[1;33m+\u001b[0m \u001b[0mz\u001b[0m\u001b[1;33m\u001b[0m\u001b[1;33m\u001b[0m\u001b[0m\n\u001b[0m\u001b[0;32m      2\u001b[0m \u001b[0msoma4\u001b[0m\u001b[1;33m\u001b[0m\u001b[1;33m\u001b[0m\u001b[0m\n",
      "\u001b[1;31mNameError\u001b[0m: name 'z' is not defined"
     ]
    }
   ],
   "source": [
    "soma4 = dia_da_semana + z\n",
    "soma4"
   ]
  },
  {
   "cell_type": "code",
   "execution_count": 31,
   "id": "5e4f58a3",
   "metadata": {},
   "outputs": [],
   "source": [
    "z = True"
   ]
  },
  {
   "cell_type": "code",
   "execution_count": 32,
   "id": "90595874",
   "metadata": {},
   "outputs": [],
   "source": [
    "soma4 = dia_da_semana + z"
   ]
  },
  {
   "cell_type": "code",
   "execution_count": 33,
   "id": "8a9d8a66",
   "metadata": {},
   "outputs": [
    {
     "data": {
      "text/plain": [
       "8"
      ]
     },
     "execution_count": 33,
     "metadata": {},
     "output_type": "execute_result"
    }
   ],
   "source": [
    "soma4"
   ]
  },
  {
   "cell_type": "code",
   "execution_count": 34,
   "id": "867e482a",
   "metadata": {},
   "outputs": [
    {
     "data": {
      "text/plain": [
       "int"
      ]
     },
     "execution_count": 34,
     "metadata": {},
     "output_type": "execute_result"
    }
   ],
   "source": [
    "type(soma4)"
   ]
  },
  {
   "cell_type": "code",
   "execution_count": 35,
   "id": "4f0cb5af",
   "metadata": {},
   "outputs": [
    {
     "ename": "TypeError",
     "evalue": "can only concatenate str (not \"float\") to str",
     "output_type": "error",
     "traceback": [
      "\u001b[1;31m---------------------------------------------------------------------------\u001b[0m",
      "\u001b[1;31mTypeError\u001b[0m                                 Traceback (most recent call last)",
      "\u001b[1;32m<ipython-input-35-fe2aa1289298>\u001b[0m in \u001b[0;36m<module>\u001b[1;34m\u001b[0m\n\u001b[1;32m----> 1\u001b[1;33m \u001b[0mcidade\u001b[0m \u001b[1;33m+\u001b[0m \u001b[0mimc\u001b[0m\u001b[1;33m\u001b[0m\u001b[1;33m\u001b[0m\u001b[0m\n\u001b[0m",
      "\u001b[1;31mTypeError\u001b[0m: can only concatenate str (not \"float\") to str"
     ]
    }
   ],
   "source": [
    "cidade + imc"
   ]
  },
  {
   "cell_type": "code",
   "execution_count": 36,
   "id": "d2fa89ae",
   "metadata": {},
   "outputs": [
    {
     "data": {
      "text/plain": [
       "'Rio de Janeiro 23.31'"
      ]
     },
     "execution_count": 36,
     "metadata": {},
     "output_type": "execute_result"
    }
   ],
   "source": [
    "cidade + \" \" + str(imc)"
   ]
  },
  {
   "cell_type": "code",
   "execution_count": 37,
   "id": "407d2f48",
   "metadata": {},
   "outputs": [
    {
     "data": {
      "text/plain": [
       "23.31"
      ]
     },
     "execution_count": 37,
     "metadata": {},
     "output_type": "execute_result"
    }
   ],
   "source": [
    "imc"
   ]
  },
  {
   "cell_type": "code",
   "execution_count": 38,
   "id": "3ad553b2",
   "metadata": {},
   "outputs": [
    {
     "data": {
      "text/plain": [
       "float"
      ]
     },
     "execution_count": 38,
     "metadata": {},
     "output_type": "execute_result"
    }
   ],
   "source": [
    "type (imc)"
   ]
  },
  {
   "cell_type": "code",
   "execution_count": 39,
   "id": "23dd21be",
   "metadata": {},
   "outputs": [
    {
     "data": {
      "text/plain": [
       "88.31"
      ]
     },
     "execution_count": 39,
     "metadata": {},
     "output_type": "execute_result"
    }
   ],
   "source": [
    "imc + peso"
   ]
  },
  {
   "cell_type": "code",
   "execution_count": 40,
   "id": "3d4286aa",
   "metadata": {},
   "outputs": [
    {
     "data": {
      "text/plain": [
       "int"
      ]
     },
     "execution_count": 40,
     "metadata": {},
     "output_type": "execute_result"
    }
   ],
   "source": [
    "type (peso)"
   ]
  },
  {
   "cell_type": "code",
   "execution_count": 41,
   "id": "1a9e47d8",
   "metadata": {},
   "outputs": [
    {
     "ename": "ValueError",
     "evalue": "could not convert string to float: 'banana'",
     "output_type": "error",
     "traceback": [
      "\u001b[1;31m---------------------------------------------------------------------------\u001b[0m",
      "\u001b[1;31mValueError\u001b[0m                                Traceback (most recent call last)",
      "\u001b[1;32m<ipython-input-41-02e970f45b75>\u001b[0m in \u001b[0;36m<module>\u001b[1;34m\u001b[0m\n\u001b[1;32m----> 1\u001b[1;33m \u001b[0mfloat\u001b[0m\u001b[1;33m(\u001b[0m\u001b[1;34m\"banana\"\u001b[0m\u001b[1;33m)\u001b[0m\u001b[1;33m\u001b[0m\u001b[1;33m\u001b[0m\u001b[0m\n\u001b[0m",
      "\u001b[1;31mValueError\u001b[0m: could not convert string to float: 'banana'"
     ]
    }
   ],
   "source": [
    "float(\"banana\")"
   ]
  },
  {
   "cell_type": "markdown",
   "id": "7517cb5f",
   "metadata": {},
   "source": [
    "## Exercício"
   ]
  },
  {
   "cell_type": "code",
   "execution_count": 43,
   "id": "79e8b9db",
   "metadata": {},
   "outputs": [
    {
     "name": "stdout",
     "output_type": "stream",
     "text": [
      "1500\n"
     ]
    }
   ],
   "source": [
    "# Criação das variáveis\n",
    "economias = 1500\n",
    "print (economias)"
   ]
  },
  {
   "cell_type": "code",
   "execution_count": 44,
   "id": "1b106d23",
   "metadata": {},
   "outputs": [
    {
     "data": {
      "text/plain": [
       "int"
      ]
     },
     "execution_count": 44,
     "metadata": {},
     "output_type": "execute_result"
    }
   ],
   "source": [
    "type (economias)"
   ]
  },
  {
   "cell_type": "code",
   "execution_count": 45,
   "id": "9758cffe",
   "metadata": {},
   "outputs": [],
   "source": [
    " C = economias"
   ]
  },
  {
   "cell_type": "code",
   "execution_count": 46,
   "id": "3c00fdc3",
   "metadata": {},
   "outputs": [],
   "source": [
    "i = 0.03"
   ]
  },
  {
   "cell_type": "code",
   "execution_count": 47,
   "id": "b830b95e",
   "metadata": {},
   "outputs": [],
   "source": [
    "n = 7"
   ]
  },
  {
   "cell_type": "code",
   "execution_count": 50,
   "id": "38985776",
   "metadata": {},
   "outputs": [],
   "source": [
    "montante = round (C* (1 + i)**n, 2)"
   ]
  },
  {
   "cell_type": "code",
   "execution_count": 52,
   "id": "a95376fe",
   "metadata": {},
   "outputs": [
    {
     "name": "stdout",
     "output_type": "stream",
     "text": [
      "1844.811\n"
     ]
    }
   ],
   "source": [
    "print (montante)"
   ]
  },
  {
   "cell_type": "code",
   "execution_count": 54,
   "id": "f6490319",
   "metadata": {},
   "outputs": [
    {
     "name": "stdout",
     "output_type": "stream",
     "text": [
      "Eu comecei com R$1500 e agora eu tenho R$1844.811. Maravilha!!\n"
     ]
    }
   ],
   "source": [
    "print(\"Eu comecei com R$\" + str(economias) + \" e agora eu tenho R$\" + str(montante) +\". Maravilha!!\")"
   ]
  },
  {
   "cell_type": "code",
   "execution_count": 55,
   "id": "c0b58690",
   "metadata": {},
   "outputs": [
    {
     "name": "stdout",
     "output_type": "stream",
     "text": [
      "344.81\n"
     ]
    }
   ],
   "source": [
    "juros = round(montante - economias, 2)\n",
    "print (juros)"
   ]
  },
  {
   "cell_type": "code",
   "execution_count": 57,
   "id": "6a17bb6d",
   "metadata": {},
   "outputs": [
    {
     "name": "stdout",
     "output_type": "stream",
     "text": [
      "Eu comecei com R$ 1500 e agora eu tenho R$ 1844.811 . O juros gerado foi de R$ 344.81 .\n"
     ]
    }
   ],
   "source": [
    "print (\"Eu comecei com R$ \" + str(economias) + \" e agora eu tenho R$ \" + str(montante) + \" . O juros gerado foi de R$ \" + str(juros) +\" .\")"
   ]
  },
  {
   "cell_type": "code",
   "execution_count": null,
   "id": "194ce1f2",
   "metadata": {},
   "outputs": [],
   "source": []
  }
 ],
 "metadata": {
  "kernelspec": {
   "display_name": "Python 3",
   "language": "python",
   "name": "python3"
  },
  "language_info": {
   "codemirror_mode": {
    "name": "ipython",
    "version": 3
   },
   "file_extension": ".py",
   "mimetype": "text/x-python",
   "name": "python",
   "nbconvert_exporter": "python",
   "pygments_lexer": "ipython3",
   "version": "3.8.8"
  }
 },
 "nbformat": 4,
 "nbformat_minor": 5
}
