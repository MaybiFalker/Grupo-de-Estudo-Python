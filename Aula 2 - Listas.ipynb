{
 "cells": [
  {
   "cell_type": "code",
   "execution_count": 1,
   "id": "979f676f",
   "metadata": {},
   "outputs": [],
   "source": [
    "altura = [1.57, 1.60, 1.69, 1.70]"
   ]
  },
  {
   "cell_type": "code",
   "execution_count": 2,
   "id": "787972b6",
   "metadata": {},
   "outputs": [
    {
     "name": "stdout",
     "output_type": "stream",
     "text": [
      "[1.57, 1.6, 1.69, 1.7]\n"
     ]
    }
   ],
   "source": [
    "print(altura)"
   ]
  },
  {
   "cell_type": "code",
   "execution_count": 3,
   "id": "015d720f",
   "metadata": {},
   "outputs": [
    {
     "data": {
      "text/plain": [
       "list"
      ]
     },
     "execution_count": 3,
     "metadata": {},
     "output_type": "execute_result"
    }
   ],
   "source": [
    "type(altura)"
   ]
  },
  {
   "cell_type": "code",
   "execution_count": 4,
   "id": "339afbbf",
   "metadata": {},
   "outputs": [],
   "source": [
    "altura_nome = ['Tainã', 1.57, 'Neidinha', 1.60, 'Andrea', 1.69, 'Maybi', 1.70]"
   ]
  },
  {
   "cell_type": "code",
   "execution_count": 5,
   "id": "2b4fcdcf",
   "metadata": {},
   "outputs": [
    {
     "data": {
      "text/plain": [
       "list"
      ]
     },
     "execution_count": 5,
     "metadata": {},
     "output_type": "execute_result"
    }
   ],
   "source": [
    "type(altura_nome)"
   ]
  },
  {
   "cell_type": "code",
   "execution_count": 6,
   "id": "b020dc7c",
   "metadata": {},
   "outputs": [
    {
     "name": "stdout",
     "output_type": "stream",
     "text": [
      "['Tainã', 1.57, 'Neidinha', 1.6, 'Andrea', 1.69, 'Maybi', 1.7]\n"
     ]
    }
   ],
   "source": [
    "print(altura_nome)"
   ]
  },
  {
   "cell_type": "markdown",
   "id": "95c8803f",
   "metadata": {},
   "source": [
    "## Lista de listas"
   ]
  },
  {
   "cell_type": "code",
   "execution_count": 7,
   "id": "be48e724",
   "metadata": {},
   "outputs": [],
   "source": [
    "altura_nome2 = [['Tainã', 1.57], \n",
    "                ['Neidinha', 1.60],\n",
    "                ['Andrea', 1.69], \n",
    "                ['Maybi', 1.70]] "
   ]
  },
  {
   "cell_type": "code",
   "execution_count": 8,
   "id": "c728d4e4",
   "metadata": {},
   "outputs": [
    {
     "name": "stdout",
     "output_type": "stream",
     "text": [
      "[['Tainã', 1.57], ['Neidinha', 1.6], ['Andrea', 1.69], ['Maybi', 1.7]]\n"
     ]
    }
   ],
   "source": [
    "print(altura_nome2)"
   ]
  },
  {
   "cell_type": "code",
   "execution_count": 15,
   "id": "f208c9a8",
   "metadata": {},
   "outputs": [
    {
     "data": {
      "text/plain": [
       "list"
      ]
     },
     "execution_count": 15,
     "metadata": {},
     "output_type": "execute_result"
    }
   ],
   "source": [
    "type(altura_nome2)"
   ]
  },
  {
   "cell_type": "markdown",
   "id": "059aa37a",
   "metadata": {},
   "source": [
    "## Transformando lista em Data Frame"
   ]
  },
  {
   "cell_type": "code",
   "execution_count": 9,
   "id": "b3038e49",
   "metadata": {},
   "outputs": [
    {
     "name": "stdout",
     "output_type": "stream",
     "text": [
      "Requirement already satisfied: pandas in c:\\users\\maybi\\anaconda3\\lib\\site-packages (1.2.4)\n",
      "Requirement already satisfied: python-dateutil>=2.7.3 in c:\\users\\maybi\\anaconda3\\lib\\site-packages (from pandas) (2.8.1)\n",
      "Requirement already satisfied: numpy>=1.16.5 in c:\\users\\maybi\\anaconda3\\lib\\site-packages (from pandas) (1.20.1)\n",
      "Requirement already satisfied: pytz>=2017.3 in c:\\users\\maybi\\anaconda3\\lib\\site-packages (from pandas) (2021.1)\n",
      "Requirement already satisfied: six>=1.5 in c:\\users\\maybi\\anaconda3\\lib\\site-packages (from python-dateutil>=2.7.3->pandas) (1.15.0)\n",
      "Note: you may need to restart the kernel to use updated packages.\n"
     ]
    }
   ],
   "source": [
    "pip install pandas"
   ]
  },
  {
   "cell_type": "code",
   "execution_count": 11,
   "id": "7be0dd96",
   "metadata": {},
   "outputs": [],
   "source": [
    "import pandas as pd\n",
    "\n",
    "df = pd.DataFrame(altura_nome2)"
   ]
  },
  {
   "cell_type": "code",
   "execution_count": 12,
   "id": "92f51793",
   "metadata": {},
   "outputs": [
    {
     "data": {
      "text/html": [
       "<div>\n",
       "<style scoped>\n",
       "    .dataframe tbody tr th:only-of-type {\n",
       "        vertical-align: middle;\n",
       "    }\n",
       "\n",
       "    .dataframe tbody tr th {\n",
       "        vertical-align: top;\n",
       "    }\n",
       "\n",
       "    .dataframe thead th {\n",
       "        text-align: right;\n",
       "    }\n",
       "</style>\n",
       "<table border=\"1\" class=\"dataframe\">\n",
       "  <thead>\n",
       "    <tr style=\"text-align: right;\">\n",
       "      <th></th>\n",
       "      <th>0</th>\n",
       "      <th>1</th>\n",
       "    </tr>\n",
       "  </thead>\n",
       "  <tbody>\n",
       "    <tr>\n",
       "      <th>0</th>\n",
       "      <td>Tainã</td>\n",
       "      <td>1.57</td>\n",
       "    </tr>\n",
       "    <tr>\n",
       "      <th>1</th>\n",
       "      <td>Neidinha</td>\n",
       "      <td>1.60</td>\n",
       "    </tr>\n",
       "    <tr>\n",
       "      <th>2</th>\n",
       "      <td>Andrea</td>\n",
       "      <td>1.69</td>\n",
       "    </tr>\n",
       "    <tr>\n",
       "      <th>3</th>\n",
       "      <td>Maybi</td>\n",
       "      <td>1.70</td>\n",
       "    </tr>\n",
       "  </tbody>\n",
       "</table>\n",
       "</div>"
      ],
      "text/plain": [
       "          0     1\n",
       "0     Tainã  1.57\n",
       "1  Neidinha  1.60\n",
       "2    Andrea  1.69\n",
       "3     Maybi  1.70"
      ]
     },
     "execution_count": 12,
     "metadata": {},
     "output_type": "execute_result"
    }
   ],
   "source": [
    "df"
   ]
  },
  {
   "cell_type": "code",
   "execution_count": 13,
   "id": "75ca2224",
   "metadata": {},
   "outputs": [],
   "source": [
    "df.columns = ['nome', 'altura']"
   ]
  },
  {
   "cell_type": "code",
   "execution_count": 14,
   "id": "0650e410",
   "metadata": {},
   "outputs": [
    {
     "data": {
      "text/html": [
       "<div>\n",
       "<style scoped>\n",
       "    .dataframe tbody tr th:only-of-type {\n",
       "        vertical-align: middle;\n",
       "    }\n",
       "\n",
       "    .dataframe tbody tr th {\n",
       "        vertical-align: top;\n",
       "    }\n",
       "\n",
       "    .dataframe thead th {\n",
       "        text-align: right;\n",
       "    }\n",
       "</style>\n",
       "<table border=\"1\" class=\"dataframe\">\n",
       "  <thead>\n",
       "    <tr style=\"text-align: right;\">\n",
       "      <th></th>\n",
       "      <th>nome</th>\n",
       "      <th>altura</th>\n",
       "    </tr>\n",
       "  </thead>\n",
       "  <tbody>\n",
       "    <tr>\n",
       "      <th>0</th>\n",
       "      <td>Tainã</td>\n",
       "      <td>1.57</td>\n",
       "    </tr>\n",
       "    <tr>\n",
       "      <th>1</th>\n",
       "      <td>Neidinha</td>\n",
       "      <td>1.60</td>\n",
       "    </tr>\n",
       "    <tr>\n",
       "      <th>2</th>\n",
       "      <td>Andrea</td>\n",
       "      <td>1.69</td>\n",
       "    </tr>\n",
       "    <tr>\n",
       "      <th>3</th>\n",
       "      <td>Maybi</td>\n",
       "      <td>1.70</td>\n",
       "    </tr>\n",
       "  </tbody>\n",
       "</table>\n",
       "</div>"
      ],
      "text/plain": [
       "       nome  altura\n",
       "0     Tainã    1.57\n",
       "1  Neidinha    1.60\n",
       "2    Andrea    1.69\n",
       "3     Maybi    1.70"
      ]
     },
     "execution_count": 14,
     "metadata": {},
     "output_type": "execute_result"
    }
   ],
   "source": [
    "df"
   ]
  },
  {
   "cell_type": "markdown",
   "id": "a688f5fa",
   "metadata": {},
   "source": [
    "## Indexação no Python"
   ]
  },
  {
   "cell_type": "code",
   "execution_count": 16,
   "id": "f377d143",
   "metadata": {},
   "outputs": [
    {
     "data": {
      "text/plain": [
       "['Neidinha', 1.6]"
      ]
     },
     "execution_count": 16,
     "metadata": {},
     "output_type": "execute_result"
    }
   ],
   "source": [
    "altura_nome2[1]"
   ]
  },
  {
   "cell_type": "code",
   "execution_count": 17,
   "id": "1bf1b853",
   "metadata": {},
   "outputs": [
    {
     "data": {
      "text/plain": [
       "'Tainã'"
      ]
     },
     "execution_count": 17,
     "metadata": {},
     "output_type": "execute_result"
    }
   ],
   "source": [
    "altura_nome[0]"
   ]
  },
  {
   "cell_type": "code",
   "execution_count": 18,
   "id": "563f2802",
   "metadata": {},
   "outputs": [
    {
     "data": {
      "text/plain": [
       "['Tainã', 1.57]"
      ]
     },
     "execution_count": 18,
     "metadata": {},
     "output_type": "execute_result"
    }
   ],
   "source": [
    "altura_nome2[0]"
   ]
  },
  {
   "cell_type": "code",
   "execution_count": 19,
   "id": "dbe9c8b5",
   "metadata": {},
   "outputs": [
    {
     "ename": "NameError",
     "evalue": "name 'nome2' is not defined",
     "output_type": "error",
     "traceback": [
      "\u001b[1;31m---------------------------------------------------------------------------\u001b[0m",
      "\u001b[1;31mNameError\u001b[0m                                 Traceback (most recent call last)",
      "\u001b[1;32m<ipython-input-19-a4f24df36df3>\u001b[0m in \u001b[0;36m<module>\u001b[1;34m\u001b[0m\n\u001b[1;32m----> 1\u001b[1;33m \u001b[0maltura\u001b[0m\u001b[1;33m-\u001b[0m\u001b[0mnome2\u001b[0m\u001b[1;33m[\u001b[0m\u001b[1;36m0\u001b[0m\u001b[1;33m:\u001b[0m\u001b[1;36m3\u001b[0m\u001b[1;33m]\u001b[0m \u001b[1;31m#do 0 ao 2, não inclui o 3\u001b[0m\u001b[1;33m\u001b[0m\u001b[1;33m\u001b[0m\u001b[0m\n\u001b[0m",
      "\u001b[1;31mNameError\u001b[0m: name 'nome2' is not defined"
     ]
    }
   ],
   "source": [
    "altura-nome2[0:3] #do 0 ao 2, não inclui o 3"
   ]
  },
  {
   "cell_type": "code",
   "execution_count": 20,
   "id": "f05e29fb",
   "metadata": {},
   "outputs": [
    {
     "data": {
      "text/plain": [
       "[['Tainã', 1.57], ['Neidinha', 1.6], ['Andrea', 1.69]]"
      ]
     },
     "execution_count": 20,
     "metadata": {},
     "output_type": "execute_result"
    }
   ],
   "source": [
    "altura_nome2[0:3] # do 0 ao 2, não inclui o 3"
   ]
  },
  {
   "cell_type": "markdown",
   "id": "7a3971a7",
   "metadata": {},
   "source": [
    "## Exercícios\n",
    "## Questão 1\n",
    "\n",
    "- Crie as variáveis: quarto, sala, banheiro e cozinha. Preencha com valores de área $(m^2)$.\n",
    "\n",
    "- Agora, crie uma lista chamada area, que receba as variáveis criadas anteriormente.\n",
    "\n",
    "- Imprima a lista area e seu tipo"
   ]
  },
  {
   "cell_type": "code",
   "execution_count": 1,
   "id": "c17e7ad8",
   "metadata": {},
   "outputs": [],
   "source": [
    "quarto = 8"
   ]
  },
  {
   "cell_type": "code",
   "execution_count": 3,
   "id": "d0e1a6e5",
   "metadata": {},
   "outputs": [],
   "source": [
    "sala = 15"
   ]
  },
  {
   "cell_type": "code",
   "execution_count": 5,
   "id": "97ae6d2e",
   "metadata": {},
   "outputs": [],
   "source": [
    "banheiro = 4"
   ]
  },
  {
   "cell_type": "code",
   "execution_count": 6,
   "id": "74412502",
   "metadata": {},
   "outputs": [],
   "source": [
    "cozinha = 10"
   ]
  },
  {
   "cell_type": "code",
   "execution_count": 7,
   "id": "704b1048",
   "metadata": {},
   "outputs": [],
   "source": [
    "area = ['quarto',8, 'sala',15, 'banheiro',4, 'cozinha', 10 ]"
   ]
  },
  {
   "cell_type": "code",
   "execution_count": 8,
   "id": "2ead3a39",
   "metadata": {},
   "outputs": [
    {
     "name": "stdout",
     "output_type": "stream",
     "text": [
      "['quarto', 8, 'sala', 15, 'banheiro', 4, 'cozinha', 10]\n"
     ]
    }
   ],
   "source": [
    "print(area)"
   ]
  },
  {
   "cell_type": "code",
   "execution_count": 9,
   "id": "30deac26",
   "metadata": {},
   "outputs": [
    {
     "data": {
      "text/plain": [
       "list"
      ]
     },
     "execution_count": 9,
     "metadata": {},
     "output_type": "execute_result"
    }
   ],
   "source": [
    "type(area)"
   ]
  },
  {
   "cell_type": "code",
   "execution_count": 10,
   "id": "0b5a30db",
   "metadata": {},
   "outputs": [],
   "source": [
    "area_2 = [quarto, sala, banheiro, cozinha]"
   ]
  },
  {
   "cell_type": "code",
   "execution_count": 11,
   "id": "e04a5ea9",
   "metadata": {},
   "outputs": [
    {
     "data": {
      "text/plain": [
       "[8, 15, 4, 10]"
      ]
     },
     "execution_count": 11,
     "metadata": {},
     "output_type": "execute_result"
    }
   ],
   "source": [
    "area_2"
   ]
  },
  {
   "cell_type": "code",
   "execution_count": 12,
   "id": "02cae4e6",
   "metadata": {},
   "outputs": [
    {
     "data": {
      "text/plain": [
       "list"
      ]
     },
     "execution_count": 12,
     "metadata": {},
     "output_type": "execute_result"
    }
   ],
   "source": [
    "type(area_2)"
   ]
  },
  {
   "cell_type": "code",
   "execution_count": 13,
   "id": "0343f93b",
   "metadata": {},
   "outputs": [
    {
     "data": {
      "text/plain": [
       "int"
      ]
     },
     "execution_count": 13,
     "metadata": {},
     "output_type": "execute_result"
    }
   ],
   "source": [
    "type(area_2[2])"
   ]
  },
  {
   "cell_type": "markdown",
   "id": "4fd4f88c",
   "metadata": {},
   "source": [
    "## Questão 2\n",
    "\n",
    "- Atualize a lista 'area' intercalando os nomes dos ambientes, e as variáveis que representam suas medidas.\n",
    "\n",
    "- Imprima area novamente e seu tipo.\n",
    "\n",
    "- Criar uma lista de lista."
   ]
  },
  {
   "cell_type": "code",
   "execution_count": 14,
   "id": "b710c016",
   "metadata": {},
   "outputs": [],
   "source": [
    "area_2 = ['quarto', quarto, 'sala', sala, 'banheiro', banheiro, 'cozinha', cozinha]"
   ]
  },
  {
   "cell_type": "code",
   "execution_count": 15,
   "id": "cae4ed2c",
   "metadata": {},
   "outputs": [
    {
     "data": {
      "text/plain": [
       "['quarto', 8, 'sala', 15, 'banheiro', 4, 'cozinha', 10]"
      ]
     },
     "execution_count": 15,
     "metadata": {},
     "output_type": "execute_result"
    }
   ],
   "source": [
    "area_2"
   ]
  },
  {
   "cell_type": "code",
   "execution_count": 16,
   "id": "d921009e",
   "metadata": {},
   "outputs": [
    {
     "data": {
      "text/plain": [
       "list"
      ]
     },
     "execution_count": 16,
     "metadata": {},
     "output_type": "execute_result"
    }
   ],
   "source": [
    "type(area_2)"
   ]
  },
  {
   "cell_type": "code",
   "execution_count": 17,
   "id": "4a0ac354",
   "metadata": {},
   "outputs": [
    {
     "data": {
      "text/plain": [
       "4"
      ]
     },
     "execution_count": 17,
     "metadata": {},
     "output_type": "execute_result"
    }
   ],
   "source": [
    "area[5]"
   ]
  },
  {
   "cell_type": "code",
   "execution_count": 18,
   "id": "8c5315f8",
   "metadata": {},
   "outputs": [],
   "source": [
    "area_3 = [['quarto',quarto], ['sala',sala], ['banheiro',banheiro], ['cozinha',cozinha]]"
   ]
  },
  {
   "cell_type": "code",
   "execution_count": 19,
   "id": "02a86a25",
   "metadata": {},
   "outputs": [
    {
     "data": {
      "text/plain": [
       "[['quarto', 8], ['sala', 15], ['banheiro', 4], ['cozinha', 10]]"
      ]
     },
     "execution_count": 19,
     "metadata": {},
     "output_type": "execute_result"
    }
   ],
   "source": [
    "area_3"
   ]
  },
  {
   "cell_type": "code",
   "execution_count": 23,
   "id": "ce3d05b8",
   "metadata": {},
   "outputs": [
    {
     "data": {
      "text/plain": [
       "4"
      ]
     },
     "execution_count": 23,
     "metadata": {},
     "output_type": "execute_result"
    }
   ],
   "source": [
    "len(area_3) # A lista tem 4 elementos, mas os índices vão de 0 a 3"
   ]
  },
  {
   "cell_type": "code",
   "execution_count": null,
   "id": "ed5c10cb",
   "metadata": {},
   "outputs": [],
   "source": []
  }
 ],
 "metadata": {
  "kernelspec": {
   "display_name": "Python 3",
   "language": "python",
   "name": "python3"
  },
  "language_info": {
   "codemirror_mode": {
    "name": "ipython",
    "version": 3
   },
   "file_extension": ".py",
   "mimetype": "text/x-python",
   "name": "python",
   "nbconvert_exporter": "python",
   "pygments_lexer": "ipython3",
   "version": "3.8.8"
  }
 },
 "nbformat": 4,
 "nbformat_minor": 5
}
